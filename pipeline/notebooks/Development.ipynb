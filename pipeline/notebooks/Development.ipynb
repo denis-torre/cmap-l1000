{
 "cells": [
  {
   "cell_type": "code",
   "execution_count": 1,
   "metadata": {
    "collapsed": true,
    "deletable": true,
    "editable": true
   },
   "outputs": [],
   "source": [
    "%%capture\n",
    "# Prepare\n",
    "import pandas as pd\n",
    "import os, glob\n",
    "os.chdir('/Users/denis/Documents/Projects/cmap/cmap-l1000-analysis')\n",
    "%load_ext rpy2.ipython\n",
    "%R source('/Users/denis/Documents/Projects/scripts/Support.R')"
   ]
  },
  {
   "cell_type": "markdown",
   "metadata": {
    "deletable": true,
    "editable": true
   },
   "source": [
    "### Infile"
   ]
  },
  {
   "cell_type": "code",
   "execution_count": 17,
   "metadata": {
    "collapsed": false,
    "deletable": true,
    "editable": true
   },
   "outputs": [],
   "source": [
    "%%R\n",
    "infiles <- c('f2-pca.dir/cmap_l1000-pca.rda', 'f1-processed_data.dir/cmap_l1000-sample_annotations.txt')"
   ]
  },
  {
   "cell_type": "markdown",
   "metadata": {
    "deletable": true,
    "editable": true
   },
   "source": [
    "### Computation"
   ]
  },
  {
   "cell_type": "code",
   "execution_count": 18,
   "metadata": {
    "collapsed": true,
    "deletable": true,
    "editable": true
   },
   "outputs": [],
   "source": [
    "%%R\n",
    "# Load PCA results\n",
    "load(infiles[1])\n",
    "\n",
    "# Read sample annotations\n",
    "sampleAnnotationDataframe <- read.table(infiles[2], sep='\\t', header=TRUE, row.names='sample_id')"
   ]
  },
  {
   "cell_type": "code",
   "execution_count": 19,
   "metadata": {
    "collapsed": false,
    "deletable": true,
    "editable": true
   },
   "outputs": [
    {
     "data": {
      "text/plain": [
       "                                     PC1       PC2        PC3\n",
       "POL002_HEPG2_24H_X1.A2_B3.A03 -15.435058  95.88185 -1.3296653\n",
       "POL002_HEPG2_24H_X1.A2_B3.A04 -18.371395  95.82331  0.1751047\n",
       "POL002_HEPG2_24H_X1.A2_B3.A05 -17.252172 101.39817  0.8144810\n",
       "POL002_HEPG2_24H_X1.A2_B3.A06 -13.481614 100.88974  1.7959921\n",
       "POL002_HEPG2_24H_X1.A2_B3.A07  -7.237008  78.85597 -1.2653682\n",
       "POL002_HEPG2_24H_X1.A2_B3.A08   6.496425  78.71004 -8.6545169\n"
      ]
     },
     "metadata": {},
     "output_type": "display_data"
    }
   ],
   "source": [
    "%%R\n",
    "# Get PCs\n",
    "PCs <- c('PC1', 'PC2', 'PC3')\n",
    "\n",
    "# Get subset\n",
    "pcaDataframe <- pca$x[,PCs]\n",
    "head(pcaDataframe)"
   ]
  },
  {
   "cell_type": "code",
   "execution_count": null,
   "metadata": {
    "collapsed": true,
    "deletable": true,
    "editable": true
   },
   "outputs": [],
   "source": [
    "%%R\n",
    "# Add annotation\n",
    "pcaDataframe <- merge(pcaDataframe, sampleAnnotationDataframe[,c('')])"
   ]
  },
  {
   "cell_type": "code",
   "execution_count": 21,
   "metadata": {
    "collapsed": false,
    "deletable": true,
    "editable": true
   },
   "outputs": [
    {
     "data": {
      "text/plain": [
       "                              PC1                         \n",
       "varExplained                  \"PC1 (25.7% var. explained)\"\n",
       "POL002_HEPG2_24H_X1.A2_B3.A03 \"-15.4350575400191\"         \n",
       "POL002_HEPG2_24H_X1.A2_B3.A04 \"-18.3713953173224\"         \n",
       "POL002_HEPG2_24H_X1.A2_B3.A05 \"-17.2521722942339\"         \n",
       "POL002_HEPG2_24H_X1.A2_B3.A06 \"-13.4816138689692\"         \n",
       "POL002_HEPG2_24H_X1.A2_B3.A07 \"-7.237007707272\"           \n",
       "                              PC2                         \n",
       "varExplained                  \"PC2 (23.3% var. explained)\"\n",
       "POL002_HEPG2_24H_X1.A2_B3.A03 \"95.8818466303263\"          \n",
       "POL002_HEPG2_24H_X1.A2_B3.A04 \"95.8233051816138\"          \n",
       "POL002_HEPG2_24H_X1.A2_B3.A05 \"101.398172966938\"          \n",
       "POL002_HEPG2_24H_X1.A2_B3.A06 \"100.88974418123\"           \n",
       "POL002_HEPG2_24H_X1.A2_B3.A07 \"78.8559701179675\"          \n",
       "                              PC3                         \n",
       "varExplained                  \"PC3 (12.6% var. explained)\"\n",
       "POL002_HEPG2_24H_X1.A2_B3.A03 \"-1.32966529456864\"         \n",
       "POL002_HEPG2_24H_X1.A2_B3.A04 \"0.175104742901191\"         \n",
       "POL002_HEPG2_24H_X1.A2_B3.A05 \"0.81448102682095\"          \n",
       "POL002_HEPG2_24H_X1.A2_B3.A06 \"1.79599213338936\"          \n",
       "POL002_HEPG2_24H_X1.A2_B3.A07 \"-1.26536823554865\"         \n"
      ]
     },
     "metadata": {},
     "output_type": "display_data"
    }
   ],
   "source": [
    "%%R\n",
    "# Add PCA variance\n",
    "pcaDataframe <- rbind(varExplained=pca$varLabels[PCs], pcaDataframe)\n",
    "head(pcaDataframe)"
   ]
  },
  {
   "cell_type": "code",
   "execution_count": 22,
   "metadata": {
    "collapsed": false,
    "deletable": true,
    "editable": true
   },
   "outputs": [
    {
     "data": {
      "text/plain": [
       "                              sample_id                      \n",
       "varExplained                  \"varExplained\"                 \n",
       "POL002_HEPG2_24H_X1.A2_B3.A03 \"POL002_HEPG2_24H_X1.A2_B3.A03\"\n",
       "POL002_HEPG2_24H_X1.A2_B3.A04 \"POL002_HEPG2_24H_X1.A2_B3.A04\"\n",
       "POL002_HEPG2_24H_X1.A2_B3.A05 \"POL002_HEPG2_24H_X1.A2_B3.A05\"\n",
       "POL002_HEPG2_24H_X1.A2_B3.A06 \"POL002_HEPG2_24H_X1.A2_B3.A06\"\n",
       "POL002_HEPG2_24H_X1.A2_B3.A07 \"POL002_HEPG2_24H_X1.A2_B3.A07\"\n",
       "                              PC1                         \n",
       "varExplained                  \"PC1 (25.7% var. explained)\"\n",
       "POL002_HEPG2_24H_X1.A2_B3.A03 \"-15.4350575400191\"         \n",
       "POL002_HEPG2_24H_X1.A2_B3.A04 \"-18.3713953173224\"         \n",
       "POL002_HEPG2_24H_X1.A2_B3.A05 \"-17.2521722942339\"         \n",
       "POL002_HEPG2_24H_X1.A2_B3.A06 \"-13.4816138689692\"         \n",
       "POL002_HEPG2_24H_X1.A2_B3.A07 \"-7.237007707272\"           \n",
       "                              PC2                         \n",
       "varExplained                  \"PC2 (23.3% var. explained)\"\n",
       "POL002_HEPG2_24H_X1.A2_B3.A03 \"95.8818466303263\"          \n",
       "POL002_HEPG2_24H_X1.A2_B3.A04 \"95.8233051816138\"          \n",
       "POL002_HEPG2_24H_X1.A2_B3.A05 \"101.398172966938\"          \n",
       "POL002_HEPG2_24H_X1.A2_B3.A06 \"100.88974418123\"           \n",
       "POL002_HEPG2_24H_X1.A2_B3.A07 \"78.8559701179675\"          \n",
       "                              PC3                         \n",
       "varExplained                  \"PC3 (12.6% var. explained)\"\n",
       "POL002_HEPG2_24H_X1.A2_B3.A03 \"-1.32966529456864\"         \n",
       "POL002_HEPG2_24H_X1.A2_B3.A04 \"0.175104742901191\"         \n",
       "POL002_HEPG2_24H_X1.A2_B3.A05 \"0.81448102682095\"          \n",
       "POL002_HEPG2_24H_X1.A2_B3.A06 \"1.79599213338936\"          \n",
       "POL002_HEPG2_24H_X1.A2_B3.A07 \"-1.26536823554865\"         \n"
      ]
     },
     "metadata": {},
     "output_type": "display_data"
    }
   ],
   "source": [
    "%%R\n",
    "# Add rownames\n",
    "pcaDataframe <- cbind(sample_id=rownames(pcaDataframe), pcaDataframe)\n",
    "head(pcaDataframe)"
   ]
  },
  {
   "cell_type": "code",
   "execution_count": null,
   "metadata": {
    "collapsed": true,
    "deletable": true,
    "editable": true
   },
   "outputs": [],
   "source": [
    "# Save file\n",
    "write.table(pcaDataframe, file=outfile, sep='\\t', quote=FALSE, row.names=FALSE)"
   ]
  }
 ],
 "metadata": {
  "kernelspec": {
   "display_name": "Python 2",
   "language": "python",
   "name": "python2"
  },
  "language_info": {
   "codemirror_mode": {
    "name": "ipython",
    "version": 2
   },
   "file_extension": ".py",
   "mimetype": "text/x-python",
   "name": "python",
   "nbconvert_exporter": "python",
   "pygments_lexer": "ipython2",
   "version": "2.7.10"
  }
 },
 "nbformat": 4,
 "nbformat_minor": 2
}
